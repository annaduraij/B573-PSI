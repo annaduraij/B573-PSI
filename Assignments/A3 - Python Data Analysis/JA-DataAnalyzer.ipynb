{
 "cells": [
  {
   "cell_type": "code",
   "execution_count": 4,
   "id": "d43378fbba308c22",
   "metadata": {
    "collapsed": false,
    "ExecuteTime": {
     "end_time": "2024-02-29T19:22:34.878018300Z",
     "start_time": "2024-02-29T19:22:34.485256300Z"
    }
   },
   "outputs": [],
   "source": [
    "import pandas\n",
    "\n",
    "# Establish Metadata\n",
    "metadata = {\n",
    "    'Author      ': 'Jay Annadurai',\n",
    "    'Date        ': '15 Feb 2024',\n",
    "    'Project     ': 'A3-DataAnalyzer',\n",
    "    'Version     ': 0.1,\n",
    "    'Description ': ''\n",
    "}"
   ]
  },
  {
   "cell_type": "code",
   "outputs": [],
   "source": [
    "# Import Libraries\n",
    "import pandas as pd  # Data Reading\n",
    "import seaborn as sns  # Advanced Data Visualization\n",
    "import numpy as np # Computation\n",
    "import matplotlib.pyplot as plt  # Data Visualization\n",
    "\n",
    "# Allows for Interactive Python Plots:\n",
    "# %matplotlib notebook \n",
    "# Allows for Static Python Plots:\n",
    "%matplotlib inline "
   ],
   "metadata": {
    "collapsed": false,
    "ExecuteTime": {
     "end_time": "2024-02-29T19:22:35.841710600Z",
     "start_time": "2024-02-29T19:22:34.878018300Z"
    }
   },
   "id": "95c52a39dff1048e",
   "execution_count": 5
  },
  {
   "cell_type": "markdown",
   "source": [
    "# Data Analysis Task\n",
    "\n",
    "## 1. Data Merging and Preparation\n",
    "During data analysis it is often necessary to take information from multiple files in order to perform data analysis or make sense of your data analysis."
   ],
   "metadata": {
    "collapsed": false
   },
   "id": "531d4ac6d469abb4"
  },
  {
   "cell_type": "markdown",
   "source": [
    "a. Load the data in “Gene_Expression_Data.xlsx”, “Gene_Information.csv”, and “Sample_Information.tsv” into Python."
   ],
   "metadata": {
    "collapsed": false
   },
   "id": "45d335d45c724635"
  },
  {
   "cell_type": "code",
   "outputs": [],
   "source": [
    "files = [\n",
    "    \"Gene_Expression_Data.xlsx\",\n",
    "    \"Gene_Information.csv\",\n",
    "    \"Sample_Information.tsv\"\n",
    "]\n",
    "\n",
    "input_folder_path = \"Data/\"\n",
    "\n",
    "def file_to_df(file_path:str, return_dict=True) -> dict:\n",
    "    # Get the File Extension by splitting on '.'\n",
    "    file_path_list = file_path.rsplit(\".\",1)\n",
    "    # Will have the path pre-extension and the extension as a list\n",
    "    \n",
    "    # Get the File Name by splitting on the last '/' with the part that doesn't have the ext\n",
    "    file_name = file_path_list[0].rsplit(\"/\",1)[1]\n",
    "    \n",
    "    # Save the Information\n",
    "    file_dict = {'name': file_name, 'extension': file_path_list[1]}\n",
    "    \n",
    "    # Parse the File based on its extension\n",
    "    if file_dict['extension'] == 'xlsx':\n",
    "        df = pd.read_excel(file_path)\n",
    "    elif file_dict['extension'] == 'tsv':\n",
    "        df = pd.read_csv(file_path, sep='\\t')\n",
    "    elif file_dict['extension'] == 'csv':\n",
    "        df = pd.read_csv(file_path, sep=',')\n",
    "    else:\n",
    "        raise TypeError(\"Unsupported file extension\")\n",
    "    \n",
    "    # If the return_dict flag is enabled, return a dictionary including the name of the file\n",
    "    if return_dict: return {\"name\": file_dict['name'],\"ext\": file_dict['extension'],\"path\": file_path, \"df\": df}\n",
    "    \n",
    "    # Return the Dataframe\n",
    "    else: return df\n",
    "        "
   ],
   "metadata": {
    "collapsed": false,
    "ExecuteTime": {
     "end_time": "2024-02-29T19:22:35.850794100Z",
     "start_time": "2024-02-29T19:22:35.844227700Z"
    }
   },
   "id": "ddd17914a3fffd3b",
   "execution_count": 6
  },
  {
   "cell_type": "code",
   "outputs": [],
   "source": [
    "# Initialize a Dict of Dataframes\n",
    "dfs = {}\n",
    "\n",
    "# Iterate through each file and import the Dataframes\n",
    "for file in files:\n",
    "    # Get the Dataframe as a Dict\n",
    "    dict_df = file_to_df(input_folder_path + file)\n",
    "\n",
    "    # Debug: Print the Dict with the DF\n",
    "    # print(dict_df)\n",
    "    \n",
    "    # Binds the Dataframe under the file name under the Dataframes Dictionary\n",
    "    dfs[dict_df['name']] = dict_df['df'] "
   ],
   "metadata": {
    "collapsed": false,
    "ExecuteTime": {
     "end_time": "2024-02-29T19:22:44.190522200Z",
     "start_time": "2024-02-29T19:22:35.847731900Z"
    }
   },
   "id": "5cdba54f1fb34b5b",
   "execution_count": 7
  },
  {
   "cell_type": "code",
   "outputs": [
    {
     "data": {
      "text/plain": "           Probe_ID   GSM820516   GSM820517   GSM820518   GSM820519  \\\n0      ILMN_1343291  66665.3800  69404.6700  64128.0700  68943.9700   \n1      ILMN_1343295  22040.1100  13046.3400  38678.9600  16641.8900   \n2      ILMN_1651199    226.6081    205.4483    217.2475    229.0451   \n3      ILMN_1651209    278.5710    253.7044    211.8002    278.0423   \n4      ILMN_1651210    195.4914    195.9835    175.3356    193.9065   \n...             ...         ...         ...         ...         ...   \n48798  ILMN_2415911    965.4537   1084.3610    975.9432    692.3060   \n48799  ILMN_2415926   3583.4440   1152.4940   2049.1500    913.1962   \n48800  ILMN_2415949   2282.5570    822.8831   2359.0100   1630.6520   \n48801  ILMN_2415979   2389.5440   3323.9100   2554.8810   9655.9170   \n48802  ILMN_2416019    586.2118    361.3306    238.6711    912.5630   \n\n        GSM820520   GSM820521   GSM820522   GSM820523   GSM820524   GSM820525  \\\n0      67827.2200  71775.3000  62245.5900  69713.7000  69509.2700  68244.5900   \n1      33719.8900  18933.2900  26170.0400   9906.9130  17166.5200  12428.9500   \n2        226.3029    203.8710    213.4431    210.4129    229.5394    212.7384   \n3        259.8059    265.1900    321.2587    273.4458    253.6032    310.1582   \n4        229.5674    164.0632    244.6696    190.9813    188.1039    199.3084   \n...           ...         ...         ...         ...         ...         ...   \n48798   1306.9460    947.1885    837.6633    587.1460    833.9681    852.5927   \n48799   1996.2160   1336.6350   1693.9640    902.1262   2569.1790   1317.9910   \n48800   2951.5930   2222.9580   2120.2090   1810.6850   1535.9080    977.6974   \n48801   4155.8250   5872.2260   3631.8960   6146.9280   2984.1830   4123.6540   \n48802    278.4836   1249.7430    319.8817   1150.1330    215.7681    446.5716   \n\n        GSM820526   GSM820527   GSM820528   GSM820529   GSM820530   GSM820531  \\\n0      65427.4700  68436.5200  57608.6700  69959.7700  69509.2700  70063.7700   \n1      25297.5700  17535.6000  19749.1400  17854.2900  43670.6800  22849.0800   \n2        226.1345    232.2437    208.7316    229.2948    214.4033    216.6758   \n3        275.0126    274.9519    250.6420    255.8540    219.5752    292.4965   \n4        220.6229    213.3975    194.7746    173.7073    185.3380    174.6898   \n...           ...         ...         ...         ...         ...         ...   \n48798   1234.8830    716.9376   1254.8400    835.5988   1034.8450    731.5306   \n48799   3384.6820   1741.8400   1978.3250   1048.7180   2644.4420   1294.8670   \n48800   1849.7140   1922.0240   2400.9900   1626.1940   2502.9950   1918.5350   \n48801   5451.1860   7398.6830   2048.6720   3455.2030   2476.3410   4164.1320   \n48802    600.3635   1216.6590    699.1321   1444.6380    447.5708   1266.0130   \n\n        GSM820532   GSM820533  \n0      69647.1700  70332.3400  \n1      23725.6600  28747.0100  \n2        195.6539    252.1502  \n3        253.3126    237.9844  \n4        195.3534    191.9382  \n...           ...         ...  \n48798   1104.9090    686.2645  \n48799   1705.6710   2486.7550  \n48800   1135.9280   2230.4140  \n48801   2756.0150   4462.6400  \n48802    439.5786   1826.4800  \n\n[48803 rows x 19 columns]",
      "text/html": "<div>\n<style scoped>\n    .dataframe tbody tr th:only-of-type {\n        vertical-align: middle;\n    }\n\n    .dataframe tbody tr th {\n        vertical-align: top;\n    }\n\n    .dataframe thead th {\n        text-align: right;\n    }\n</style>\n<table border=\"1\" class=\"dataframe\">\n  <thead>\n    <tr style=\"text-align: right;\">\n      <th></th>\n      <th>Probe_ID</th>\n      <th>GSM820516</th>\n      <th>GSM820517</th>\n      <th>GSM820518</th>\n      <th>GSM820519</th>\n      <th>GSM820520</th>\n      <th>GSM820521</th>\n      <th>GSM820522</th>\n      <th>GSM820523</th>\n      <th>GSM820524</th>\n      <th>GSM820525</th>\n      <th>GSM820526</th>\n      <th>GSM820527</th>\n      <th>GSM820528</th>\n      <th>GSM820529</th>\n      <th>GSM820530</th>\n      <th>GSM820531</th>\n      <th>GSM820532</th>\n      <th>GSM820533</th>\n    </tr>\n  </thead>\n  <tbody>\n    <tr>\n      <th>0</th>\n      <td>ILMN_1343291</td>\n      <td>66665.3800</td>\n      <td>69404.6700</td>\n      <td>64128.0700</td>\n      <td>68943.9700</td>\n      <td>67827.2200</td>\n      <td>71775.3000</td>\n      <td>62245.5900</td>\n      <td>69713.7000</td>\n      <td>69509.2700</td>\n      <td>68244.5900</td>\n      <td>65427.4700</td>\n      <td>68436.5200</td>\n      <td>57608.6700</td>\n      <td>69959.7700</td>\n      <td>69509.2700</td>\n      <td>70063.7700</td>\n      <td>69647.1700</td>\n      <td>70332.3400</td>\n    </tr>\n    <tr>\n      <th>1</th>\n      <td>ILMN_1343295</td>\n      <td>22040.1100</td>\n      <td>13046.3400</td>\n      <td>38678.9600</td>\n      <td>16641.8900</td>\n      <td>33719.8900</td>\n      <td>18933.2900</td>\n      <td>26170.0400</td>\n      <td>9906.9130</td>\n      <td>17166.5200</td>\n      <td>12428.9500</td>\n      <td>25297.5700</td>\n      <td>17535.6000</td>\n      <td>19749.1400</td>\n      <td>17854.2900</td>\n      <td>43670.6800</td>\n      <td>22849.0800</td>\n      <td>23725.6600</td>\n      <td>28747.0100</td>\n    </tr>\n    <tr>\n      <th>2</th>\n      <td>ILMN_1651199</td>\n      <td>226.6081</td>\n      <td>205.4483</td>\n      <td>217.2475</td>\n      <td>229.0451</td>\n      <td>226.3029</td>\n      <td>203.8710</td>\n      <td>213.4431</td>\n      <td>210.4129</td>\n      <td>229.5394</td>\n      <td>212.7384</td>\n      <td>226.1345</td>\n      <td>232.2437</td>\n      <td>208.7316</td>\n      <td>229.2948</td>\n      <td>214.4033</td>\n      <td>216.6758</td>\n      <td>195.6539</td>\n      <td>252.1502</td>\n    </tr>\n    <tr>\n      <th>3</th>\n      <td>ILMN_1651209</td>\n      <td>278.5710</td>\n      <td>253.7044</td>\n      <td>211.8002</td>\n      <td>278.0423</td>\n      <td>259.8059</td>\n      <td>265.1900</td>\n      <td>321.2587</td>\n      <td>273.4458</td>\n      <td>253.6032</td>\n      <td>310.1582</td>\n      <td>275.0126</td>\n      <td>274.9519</td>\n      <td>250.6420</td>\n      <td>255.8540</td>\n      <td>219.5752</td>\n      <td>292.4965</td>\n      <td>253.3126</td>\n      <td>237.9844</td>\n    </tr>\n    <tr>\n      <th>4</th>\n      <td>ILMN_1651210</td>\n      <td>195.4914</td>\n      <td>195.9835</td>\n      <td>175.3356</td>\n      <td>193.9065</td>\n      <td>229.5674</td>\n      <td>164.0632</td>\n      <td>244.6696</td>\n      <td>190.9813</td>\n      <td>188.1039</td>\n      <td>199.3084</td>\n      <td>220.6229</td>\n      <td>213.3975</td>\n      <td>194.7746</td>\n      <td>173.7073</td>\n      <td>185.3380</td>\n      <td>174.6898</td>\n      <td>195.3534</td>\n      <td>191.9382</td>\n    </tr>\n    <tr>\n      <th>...</th>\n      <td>...</td>\n      <td>...</td>\n      <td>...</td>\n      <td>...</td>\n      <td>...</td>\n      <td>...</td>\n      <td>...</td>\n      <td>...</td>\n      <td>...</td>\n      <td>...</td>\n      <td>...</td>\n      <td>...</td>\n      <td>...</td>\n      <td>...</td>\n      <td>...</td>\n      <td>...</td>\n      <td>...</td>\n      <td>...</td>\n      <td>...</td>\n    </tr>\n    <tr>\n      <th>48798</th>\n      <td>ILMN_2415911</td>\n      <td>965.4537</td>\n      <td>1084.3610</td>\n      <td>975.9432</td>\n      <td>692.3060</td>\n      <td>1306.9460</td>\n      <td>947.1885</td>\n      <td>837.6633</td>\n      <td>587.1460</td>\n      <td>833.9681</td>\n      <td>852.5927</td>\n      <td>1234.8830</td>\n      <td>716.9376</td>\n      <td>1254.8400</td>\n      <td>835.5988</td>\n      <td>1034.8450</td>\n      <td>731.5306</td>\n      <td>1104.9090</td>\n      <td>686.2645</td>\n    </tr>\n    <tr>\n      <th>48799</th>\n      <td>ILMN_2415926</td>\n      <td>3583.4440</td>\n      <td>1152.4940</td>\n      <td>2049.1500</td>\n      <td>913.1962</td>\n      <td>1996.2160</td>\n      <td>1336.6350</td>\n      <td>1693.9640</td>\n      <td>902.1262</td>\n      <td>2569.1790</td>\n      <td>1317.9910</td>\n      <td>3384.6820</td>\n      <td>1741.8400</td>\n      <td>1978.3250</td>\n      <td>1048.7180</td>\n      <td>2644.4420</td>\n      <td>1294.8670</td>\n      <td>1705.6710</td>\n      <td>2486.7550</td>\n    </tr>\n    <tr>\n      <th>48800</th>\n      <td>ILMN_2415949</td>\n      <td>2282.5570</td>\n      <td>822.8831</td>\n      <td>2359.0100</td>\n      <td>1630.6520</td>\n      <td>2951.5930</td>\n      <td>2222.9580</td>\n      <td>2120.2090</td>\n      <td>1810.6850</td>\n      <td>1535.9080</td>\n      <td>977.6974</td>\n      <td>1849.7140</td>\n      <td>1922.0240</td>\n      <td>2400.9900</td>\n      <td>1626.1940</td>\n      <td>2502.9950</td>\n      <td>1918.5350</td>\n      <td>1135.9280</td>\n      <td>2230.4140</td>\n    </tr>\n    <tr>\n      <th>48801</th>\n      <td>ILMN_2415979</td>\n      <td>2389.5440</td>\n      <td>3323.9100</td>\n      <td>2554.8810</td>\n      <td>9655.9170</td>\n      <td>4155.8250</td>\n      <td>5872.2260</td>\n      <td>3631.8960</td>\n      <td>6146.9280</td>\n      <td>2984.1830</td>\n      <td>4123.6540</td>\n      <td>5451.1860</td>\n      <td>7398.6830</td>\n      <td>2048.6720</td>\n      <td>3455.2030</td>\n      <td>2476.3410</td>\n      <td>4164.1320</td>\n      <td>2756.0150</td>\n      <td>4462.6400</td>\n    </tr>\n    <tr>\n      <th>48802</th>\n      <td>ILMN_2416019</td>\n      <td>586.2118</td>\n      <td>361.3306</td>\n      <td>238.6711</td>\n      <td>912.5630</td>\n      <td>278.4836</td>\n      <td>1249.7430</td>\n      <td>319.8817</td>\n      <td>1150.1330</td>\n      <td>215.7681</td>\n      <td>446.5716</td>\n      <td>600.3635</td>\n      <td>1216.6590</td>\n      <td>699.1321</td>\n      <td>1444.6380</td>\n      <td>447.5708</td>\n      <td>1266.0130</td>\n      <td>439.5786</td>\n      <td>1826.4800</td>\n    </tr>\n  </tbody>\n</table>\n<p>48803 rows × 19 columns</p>\n</div>"
     },
     "execution_count": 8,
     "metadata": {},
     "output_type": "execute_result"
    }
   ],
   "source": [
    "# View the Dataframe\n",
    "dfs['Gene_Expression_Data']"
   ],
   "metadata": {
    "collapsed": false,
    "ExecuteTime": {
     "end_time": "2024-02-29T19:22:44.226647700Z",
     "start_time": "2024-02-29T19:22:44.193040200Z"
    }
   },
   "id": "6e8163dfd161c735",
   "execution_count": 8
  },
  {
   "cell_type": "code",
   "outputs": [
    {
     "data": {
      "text/plain": "           Probe_ID     Symbol  Entrez_Gene_ID Chromosome      Cytoband\n0      ILMN_1343291     EEF1A1          1915.0          6         6q13c\n1      ILMN_1343295      GAPDH          2597.0         12     12p13.31d\n2      ILMN_1651199  LOC643334        643334.0        NaN       2q37.3b\n3      ILMN_1651209    SLC35E2          9906.0          1      1p36.33a\n4      ILMN_1651210     DUSP22         56940.0        NaN       6p25.3b\n...             ...        ...             ...        ...           ...\n48798  ILMN_2415911      ENOX2         10495.0          X  Xq25h-q26.1a\n48799  ILMN_2415926      THOC3         84321.0          5       5q35.2c\n48800  ILMN_2415949       MRRF         92399.0          9       9q33.2b\n48801  ILMN_2415979   KIAA1751         85452.0          1      1p36.33a\n48802  ILMN_2416019     ENTPD8        377841.0          9       9q34.3f\n\n[48803 rows x 5 columns]",
      "text/html": "<div>\n<style scoped>\n    .dataframe tbody tr th:only-of-type {\n        vertical-align: middle;\n    }\n\n    .dataframe tbody tr th {\n        vertical-align: top;\n    }\n\n    .dataframe thead th {\n        text-align: right;\n    }\n</style>\n<table border=\"1\" class=\"dataframe\">\n  <thead>\n    <tr style=\"text-align: right;\">\n      <th></th>\n      <th>Probe_ID</th>\n      <th>Symbol</th>\n      <th>Entrez_Gene_ID</th>\n      <th>Chromosome</th>\n      <th>Cytoband</th>\n    </tr>\n  </thead>\n  <tbody>\n    <tr>\n      <th>0</th>\n      <td>ILMN_1343291</td>\n      <td>EEF1A1</td>\n      <td>1915.0</td>\n      <td>6</td>\n      <td>6q13c</td>\n    </tr>\n    <tr>\n      <th>1</th>\n      <td>ILMN_1343295</td>\n      <td>GAPDH</td>\n      <td>2597.0</td>\n      <td>12</td>\n      <td>12p13.31d</td>\n    </tr>\n    <tr>\n      <th>2</th>\n      <td>ILMN_1651199</td>\n      <td>LOC643334</td>\n      <td>643334.0</td>\n      <td>NaN</td>\n      <td>2q37.3b</td>\n    </tr>\n    <tr>\n      <th>3</th>\n      <td>ILMN_1651209</td>\n      <td>SLC35E2</td>\n      <td>9906.0</td>\n      <td>1</td>\n      <td>1p36.33a</td>\n    </tr>\n    <tr>\n      <th>4</th>\n      <td>ILMN_1651210</td>\n      <td>DUSP22</td>\n      <td>56940.0</td>\n      <td>NaN</td>\n      <td>6p25.3b</td>\n    </tr>\n    <tr>\n      <th>...</th>\n      <td>...</td>\n      <td>...</td>\n      <td>...</td>\n      <td>...</td>\n      <td>...</td>\n    </tr>\n    <tr>\n      <th>48798</th>\n      <td>ILMN_2415911</td>\n      <td>ENOX2</td>\n      <td>10495.0</td>\n      <td>X</td>\n      <td>Xq25h-q26.1a</td>\n    </tr>\n    <tr>\n      <th>48799</th>\n      <td>ILMN_2415926</td>\n      <td>THOC3</td>\n      <td>84321.0</td>\n      <td>5</td>\n      <td>5q35.2c</td>\n    </tr>\n    <tr>\n      <th>48800</th>\n      <td>ILMN_2415949</td>\n      <td>MRRF</td>\n      <td>92399.0</td>\n      <td>9</td>\n      <td>9q33.2b</td>\n    </tr>\n    <tr>\n      <th>48801</th>\n      <td>ILMN_2415979</td>\n      <td>KIAA1751</td>\n      <td>85452.0</td>\n      <td>1</td>\n      <td>1p36.33a</td>\n    </tr>\n    <tr>\n      <th>48802</th>\n      <td>ILMN_2416019</td>\n      <td>ENTPD8</td>\n      <td>377841.0</td>\n      <td>9</td>\n      <td>9q34.3f</td>\n    </tr>\n  </tbody>\n</table>\n<p>48803 rows × 5 columns</p>\n</div>"
     },
     "execution_count": 9,
     "metadata": {},
     "output_type": "execute_result"
    }
   ],
   "source": [
    "# View the Dataframe\n",
    "dfs['Gene_Information']"
   ],
   "metadata": {
    "collapsed": false,
    "ExecuteTime": {
     "end_time": "2024-02-29T19:22:44.238172200Z",
     "start_time": "2024-02-29T19:22:44.226647700Z"
    }
   },
   "id": "729e08f57de34f47",
   "execution_count": 9
  },
  {
   "cell_type": "code",
   "outputs": [
    {
     "data": {
      "text/plain": "            group     patient\nGSM820516   tumor  patient: 1\nGSM820517  normal  patient: 1\nGSM820518   tumor  patient: 2\nGSM820519  normal  patient: 2\nGSM820520   tumor  patient: 3\nGSM820521  normal  patient: 3\nGSM820522   tumor  patient: 4\nGSM820523  normal  patient: 4\nGSM820524   tumor  patient: 5\nGSM820525  normal  patient: 5\nGSM820526   tumor  patient: 6\nGSM820527  normal  patient: 6\nGSM820528   tumor  patient: 7\nGSM820529  normal  patient: 7\nGSM820530   tumor  patient: 8\nGSM820531  normal  patient: 8\nGSM820532   tumor  patient: 9\nGSM820533  normal  patient: 9",
      "text/html": "<div>\n<style scoped>\n    .dataframe tbody tr th:only-of-type {\n        vertical-align: middle;\n    }\n\n    .dataframe tbody tr th {\n        vertical-align: top;\n    }\n\n    .dataframe thead th {\n        text-align: right;\n    }\n</style>\n<table border=\"1\" class=\"dataframe\">\n  <thead>\n    <tr style=\"text-align: right;\">\n      <th></th>\n      <th>group</th>\n      <th>patient</th>\n    </tr>\n  </thead>\n  <tbody>\n    <tr>\n      <th>GSM820516</th>\n      <td>tumor</td>\n      <td>patient: 1</td>\n    </tr>\n    <tr>\n      <th>GSM820517</th>\n      <td>normal</td>\n      <td>patient: 1</td>\n    </tr>\n    <tr>\n      <th>GSM820518</th>\n      <td>tumor</td>\n      <td>patient: 2</td>\n    </tr>\n    <tr>\n      <th>GSM820519</th>\n      <td>normal</td>\n      <td>patient: 2</td>\n    </tr>\n    <tr>\n      <th>GSM820520</th>\n      <td>tumor</td>\n      <td>patient: 3</td>\n    </tr>\n    <tr>\n      <th>GSM820521</th>\n      <td>normal</td>\n      <td>patient: 3</td>\n    </tr>\n    <tr>\n      <th>GSM820522</th>\n      <td>tumor</td>\n      <td>patient: 4</td>\n    </tr>\n    <tr>\n      <th>GSM820523</th>\n      <td>normal</td>\n      <td>patient: 4</td>\n    </tr>\n    <tr>\n      <th>GSM820524</th>\n      <td>tumor</td>\n      <td>patient: 5</td>\n    </tr>\n    <tr>\n      <th>GSM820525</th>\n      <td>normal</td>\n      <td>patient: 5</td>\n    </tr>\n    <tr>\n      <th>GSM820526</th>\n      <td>tumor</td>\n      <td>patient: 6</td>\n    </tr>\n    <tr>\n      <th>GSM820527</th>\n      <td>normal</td>\n      <td>patient: 6</td>\n    </tr>\n    <tr>\n      <th>GSM820528</th>\n      <td>tumor</td>\n      <td>patient: 7</td>\n    </tr>\n    <tr>\n      <th>GSM820529</th>\n      <td>normal</td>\n      <td>patient: 7</td>\n    </tr>\n    <tr>\n      <th>GSM820530</th>\n      <td>tumor</td>\n      <td>patient: 8</td>\n    </tr>\n    <tr>\n      <th>GSM820531</th>\n      <td>normal</td>\n      <td>patient: 8</td>\n    </tr>\n    <tr>\n      <th>GSM820532</th>\n      <td>tumor</td>\n      <td>patient: 9</td>\n    </tr>\n    <tr>\n      <th>GSM820533</th>\n      <td>normal</td>\n      <td>patient: 9</td>\n    </tr>\n  </tbody>\n</table>\n</div>"
     },
     "execution_count": 10,
     "metadata": {},
     "output_type": "execute_result"
    }
   ],
   "source": [
    "# View the Dataframes\n",
    "dfs['Sample_Information']"
   ],
   "metadata": {
    "collapsed": false,
    "ExecuteTime": {
     "end_time": "2024-02-29T19:22:44.247721200Z",
     "start_time": "2024-02-29T19:22:44.236175300Z"
    }
   },
   "id": "37f48ee7974b71cc",
   "execution_count": 10
  },
  {
   "cell_type": "markdown",
   "source": [
    "b. Change the sample names from the “Gene_Expression_Data.xlsx”, based upon the phenotype presented in “Sample_Information.tsv”.\n",
    "\n"
   ],
   "metadata": {
    "collapsed": false
   },
   "id": "e859dc5fe0ed6e3a"
  },
  {
   "cell_type": "code",
   "outputs": [
    {
     "name": "stdout",
     "output_type": "stream",
     "text": [
      "        Probe_ID Sample_Name  Gene_Expression\n",
      "0   ILMN_1343291   GSM820516       66665.3800\n",
      "1   ILMN_1343295   GSM820516       22040.1100\n",
      "2   ILMN_1651199   GSM820516         226.6081\n",
      "3   ILMN_1651209   GSM820516         278.5710\n",
      "4   ILMN_1651210   GSM820516         195.4914\n",
      "5   ILMN_1651221   GSM820516         217.2764\n",
      "6   ILMN_1651228   GSM820516       17556.5200\n",
      "7   ILMN_1651229   GSM820516         547.4667\n",
      "8   ILMN_1651230   GSM820516         227.9082\n",
      "9   ILMN_1651232   GSM820516         304.5083\n",
      "10  ILMN_1651235   GSM820516         245.1882\n"
     ]
    }
   ],
   "source": [
    "# Convert the Gene_Expression_Data df from Wide Form to Long Form\n",
    "gene_exp_df = dfs['Gene_Expression_Data'].melt(\n",
    "    # Name of the Rows\n",
    "    id_vars='Probe_ID',\n",
    "    # Grab all the Columns After the Probe ID to Melt into a 'Column of Columns'\n",
    "    value_vars= dfs['Gene_Expression_Data'].iloc[:, 1:],\n",
    "    # Name of the Column of Columns\n",
    "    var_name='Sample_Name',\n",
    "    # Name of Values\n",
    "    value_name='Gene_Expression'\n",
    ")\n",
    "\n",
    "print(gene_exp_df.head(11))"
   ],
   "metadata": {
    "collapsed": false,
    "ExecuteTime": {
     "end_time": "2024-02-29T19:22:44.366248600Z",
     "start_time": "2024-02-29T19:22:44.246720600Z"
    }
   },
   "id": "55eee2aa678d1d3a",
   "execution_count": 11
  },
  {
   "cell_type": "code",
   "outputs": [
    {
     "name": "stdout",
     "output_type": "stream",
     "text": [
      "   Sample_Name   Group  Patient_Number\n",
      "0    GSM820516   tumor               1\n",
      "1    GSM820517  normal               1\n",
      "2    GSM820518   tumor               2\n",
      "3    GSM820519  normal               2\n",
      "4    GSM820520   tumor               3\n",
      "5    GSM820521  normal               3\n",
      "6    GSM820522   tumor               4\n",
      "7    GSM820523  normal               4\n",
      "8    GSM820524   tumor               5\n",
      "9    GSM820525  normal               5\n",
      "10   GSM820526   tumor               6\n"
     ]
    }
   ],
   "source": [
    "# Prepare the Sample_Information df by Resetting the Index\n",
    "sample_info_df = dfs['Sample_Information'].reset_index(drop=False)\n",
    "\n",
    "# The index column is now non-indexed and under the column name 'index', it must be renamed\n",
    "sample_info_df = sample_info_df.rename(columns={'index': 'Sample_Name', 'group': 'Group', 'patient': 'Patient'})\n",
    "\n",
    "# Standardize the Patient Column into Only the Patient Number\n",
    "# In a Pandas DF, string operations are performed directly on the series with 'str.method'\n",
    "# The second element within that string within the series is selected with str.get(1)\n",
    "sample_info_df['Patient_Number'] = sample_info_df['Patient'].str.rsplit(':',n=1).str.get(1).astype(int)\n",
    "\n",
    "# Now drop the original Patients Column\n",
    "sample_info_df = sample_info_df.drop(columns=['Patient'],inplace=False)\n",
    "\n",
    "print(sample_info_df.head(11))"
   ],
   "metadata": {
    "collapsed": false,
    "ExecuteTime": {
     "end_time": "2024-02-29T19:22:44.397383800Z",
     "start_time": "2024-02-29T19:22:44.291665500Z"
    }
   },
   "id": "8e74404323edd35",
   "execution_count": 12
  },
  {
   "cell_type": "code",
   "outputs": [
    {
     "name": "stdout",
     "output_type": "stream",
     "text": [
      "        Probe_ID Sample_Name  Gene_Expression  Group  Patient_Number\n",
      "0   ILMN_1343291   GSM820516       66665.3800  tumor               1\n",
      "1   ILMN_1343295   GSM820516       22040.1100  tumor               1\n",
      "2   ILMN_1651199   GSM820516         226.6081  tumor               1\n",
      "3   ILMN_1651209   GSM820516         278.5710  tumor               1\n",
      "4   ILMN_1651210   GSM820516         195.4914  tumor               1\n",
      "5   ILMN_1651221   GSM820516         217.2764  tumor               1\n",
      "6   ILMN_1651228   GSM820516       17556.5200  tumor               1\n",
      "7   ILMN_1651229   GSM820516         547.4667  tumor               1\n",
      "8   ILMN_1651230   GSM820516         227.9082  tumor               1\n",
      "9   ILMN_1651232   GSM820516         304.5083  tumor               1\n",
      "10  ILMN_1651235   GSM820516         245.1882  tumor               1\n"
     ]
    }
   ],
   "source": [
    "# Merge the Dataframes on Sample Name\n",
    "# Do an Inner Join just in case\n",
    "gene_exp_df = pd.merge(gene_exp_df, sample_info_df, how='inner',on='Sample_Name')\n",
    "\n",
    "print(gene_exp_df.head(11))"
   ],
   "metadata": {
    "collapsed": false,
    "ExecuteTime": {
     "end_time": "2024-02-29T19:22:44.526316400Z",
     "start_time": "2024-02-29T19:22:44.296003Z"
    }
   },
   "id": "f89d5d871838c436",
   "execution_count": 13
  },
  {
   "cell_type": "markdown",
   "source": [
    "c. Split the merged data from part c, into 2 parts, based upon their labeled phenotype (i.e. tumor or normal)"
   ],
   "metadata": {
    "collapsed": false
   },
   "id": "15371b76abc02133"
  },
  {
   "cell_type": "code",
   "outputs": [
    {
     "name": "stdout",
     "output_type": "stream",
     "text": [
      "Group 'Tumor': \n",
      "        Probe_ID Sample_Name  Gene_Expression  Group  Patient_Number\n",
      "0  ILMN_1343291   GSM820516       66665.3800  tumor               1\n",
      "1  ILMN_1343295   GSM820516       22040.1100  tumor               1\n",
      "2  ILMN_1651199   GSM820516         226.6081  tumor               1\n",
      "3  ILMN_1651209   GSM820516         278.5710  tumor               1\n",
      "4  ILMN_1651210   GSM820516         195.4914  tumor               1 \n",
      "\n",
      "\n",
      "Group 'Normal': \n",
      "        Probe_ID Sample_Name  Gene_Expression   Group  Patient_Number\n",
      "0  ILMN_1343291   GSM820517       69404.6700  normal               1\n",
      "1  ILMN_1343295   GSM820517       13046.3400  normal               1\n",
      "2  ILMN_1651199   GSM820517         205.4483  normal               1\n",
      "3  ILMN_1651209   GSM820517         253.7044  normal               1\n",
      "4  ILMN_1651210   GSM820517         195.9835  normal               1 \n",
      "\n"
     ]
    }
   ],
   "source": [
    "# Define Phenotypes to Split the Dataframes \n",
    "phenotypes = ['Tumor','Normal']\n",
    "phenotype_dfs = {}\n",
    "\n",
    "# Split the Dataframes into Several Dataframes based on the Group Phenotype\n",
    "for phenotype in phenotypes:\n",
    "    phenotype_dfs[phenotype] = gene_exp_df[gene_exp_df['Group'] == phenotype.lower()].reset_index(drop=True)\n",
    "    print(f\"Group '{phenotype}': \\n {phenotype_dfs[phenotype].head(5)} \\n\\n\")"
   ],
   "metadata": {
    "collapsed": false,
    "ExecuteTime": {
     "end_time": "2024-02-29T19:22:44.535854600Z",
     "start_time": "2024-02-29T19:22:44.400386300Z"
    }
   },
   "id": "5972a980b3136f81",
   "execution_count": 14
  },
  {
   "cell_type": "markdown",
   "source": [
    "d. Compute the average expression for all genes from the 2 data sets from part d"
   ],
   "metadata": {
    "collapsed": false
   },
   "id": "8f2697d0199855a5"
  },
  {
   "cell_type": "code",
   "outputs": [
    {
     "name": "stdout",
     "output_type": "stream",
     "text": [
      "Phenotype: Tumor\n",
      "       Probe_ID  Gene_Exp_Avg\n",
      "0  ILMN_1343291  65840.901111\n",
      "1  ILMN_1343295  27802.063333\n",
      "2  ILMN_1651199    217.562700\n",
      "3  ILMN_1651209    258.175711\n",
      "4  ILMN_1651210    203.250756\n",
      "\n",
      "\n",
      "Phenotype: Normal\n",
      "       Probe_ID  Gene_Exp_Avg\n",
      "0  ILMN_1343291  69652.736667\n",
      "1  ILMN_1343295  17549.262556\n",
      "2  ILMN_1651199    221.320022\n",
      "3  ILMN_1651209    271.314167\n",
      "4  ILMN_1651210    188.663967\n",
      "\n"
     ]
    }
   ],
   "source": [
    "# Initialize a dict to hold the Average Gene Expression DFs\n",
    "avg_exp_phenotype_dfs = {}\n",
    "\n",
    "# Iterate through the Phenotype DFs\n",
    "for phenotype in phenotype_dfs:\n",
    "    # Group the Elements by the Probe_ID, get the Gene_Expression Column, and then apply the mean calculation across groups\n",
    "    avg_exp_df = phenotype_dfs[phenotype].groupby('Probe_ID')['Gene_Expression'].mean().reset_index()\n",
    "    \n",
    "    # Rename the Column of the Average Expression to Reflect that it's the Average Expression\n",
    "    avg_exp_df.rename(columns={'Gene_Expression': 'Gene_Exp_Avg'},inplace=True)\n",
    "\n",
    "    # Attach the DF to the Dictionary of DFs\n",
    "    avg_exp_phenotype_dfs[phenotype] = avg_exp_df\n",
    "    \n",
    "    print(f\"Phenotype: {phenotype}\\n{avg_exp_df.head(5)}\\n\\n\")\n",
    "\n"
   ],
   "metadata": {
    "collapsed": false,
    "ExecuteTime": {
     "end_time": "2024-02-29T19:22:44.631117Z",
     "start_time": "2024-02-29T19:22:44.521782100Z"
    }
   },
   "id": "84e9cdff5c8a4e95",
   "execution_count": 15
  },
  {
   "cell_type": "markdown",
   "source": [
    "e. Determine the fold change for each Probe between the two groups ((Tumour – Control) / Control)"
   ],
   "metadata": {
    "collapsed": false
   },
   "id": "3ea43964cac7b185"
  },
  {
   "cell_type": "code",
   "outputs": [
    {
     "name": "stdout",
     "output_type": "stream",
     "text": [
      "       Probe_ID  Gene_Exp_Avg_Tumor  Gene_Exp_Avg_Normal\n",
      "0  ILMN_1343291        65840.901111         69652.736667\n",
      "1  ILMN_1343295        27802.063333         17549.262556\n",
      "2  ILMN_1651199          217.562700           221.320022\n",
      "3  ILMN_1651209          258.175711           271.314167\n",
      "4  ILMN_1651210          203.250756           188.663967\n"
     ]
    }
   ],
   "source": [
    "# Merge the Two Dataframes into One for the sake of Quantitative Comparison\n",
    "phenotype_comparison_df = pd.merge(\n",
    "    # The DFs to Merge\n",
    "    avg_exp_phenotype_dfs['Tumor'],\n",
    "    avg_exp_phenotype_dfs['Normal'],\n",
    "    # Inner Join to only compare Probes that have values in both\n",
    "    how='inner',\n",
    "    # Merge on the Probe ID column\n",
    "    on='Probe_ID',\n",
    "    # Rename the Column with Prefixes\n",
    "    # Note, this requires a Tuple and not a List\n",
    "    suffixes = ('_Tumor', '_Normal')\n",
    ")\n",
    "\n",
    "# Print the DF Head to Validate Operations\n",
    "print(phenotype_comparison_df.head())"
   ],
   "metadata": {
    "collapsed": false,
    "ExecuteTime": {
     "end_time": "2024-02-29T19:22:44.661886200Z",
     "start_time": "2024-02-29T19:22:44.640392200Z"
    }
   },
   "id": "c5e8ae8162221b8e",
   "execution_count": 16
  },
  {
   "cell_type": "code",
   "outputs": [
    {
     "data": {
      "text/plain": "           Probe_ID  Gene_Exp_Avg_Tumor  Gene_Exp_Avg_Normal  Fold_Change  \\\n0      ILMN_1343291        65840.901111         69652.736667    -0.054726   \n1      ILMN_1343295        27802.063333         17549.262556     0.584230   \n2      ILMN_1651199          217.562700           221.320022    -0.016977   \n3      ILMN_1651209          258.175711           271.314167    -0.048425   \n4      ILMN_1651210          203.250756           188.663967     0.077316   \n...             ...                 ...                  ...          ...   \n48798  ILMN_2415911         1061.050144           792.658411     0.338597   \n48799  ILMN_2415926         2400.563667          1354.958044     0.771689   \n48800  ILMN_2415949         2126.544889          1684.671389     0.262291   \n48801  ILMN_2415979         3160.949222          5400.365889    -0.414679   \n48802  ILMN_2416019          425.073478          1097.125689    -0.612557   \n\n       log_Fold_Change  \n0            -0.081196  \n1             0.663782  \n2            -0.024703  \n3            -0.071611  \n4             0.107442  \n...                ...  \n48798         0.420722  \n48799         0.825125  \n48800         0.336044  \n48801        -0.772699  \n48802        -1.367945  \n\n[48803 rows x 5 columns]",
      "text/html": "<div>\n<style scoped>\n    .dataframe tbody tr th:only-of-type {\n        vertical-align: middle;\n    }\n\n    .dataframe tbody tr th {\n        vertical-align: top;\n    }\n\n    .dataframe thead th {\n        text-align: right;\n    }\n</style>\n<table border=\"1\" class=\"dataframe\">\n  <thead>\n    <tr style=\"text-align: right;\">\n      <th></th>\n      <th>Probe_ID</th>\n      <th>Gene_Exp_Avg_Tumor</th>\n      <th>Gene_Exp_Avg_Normal</th>\n      <th>Fold_Change</th>\n      <th>log_Fold_Change</th>\n    </tr>\n  </thead>\n  <tbody>\n    <tr>\n      <th>0</th>\n      <td>ILMN_1343291</td>\n      <td>65840.901111</td>\n      <td>69652.736667</td>\n      <td>-0.054726</td>\n      <td>-0.081196</td>\n    </tr>\n    <tr>\n      <th>1</th>\n      <td>ILMN_1343295</td>\n      <td>27802.063333</td>\n      <td>17549.262556</td>\n      <td>0.584230</td>\n      <td>0.663782</td>\n    </tr>\n    <tr>\n      <th>2</th>\n      <td>ILMN_1651199</td>\n      <td>217.562700</td>\n      <td>221.320022</td>\n      <td>-0.016977</td>\n      <td>-0.024703</td>\n    </tr>\n    <tr>\n      <th>3</th>\n      <td>ILMN_1651209</td>\n      <td>258.175711</td>\n      <td>271.314167</td>\n      <td>-0.048425</td>\n      <td>-0.071611</td>\n    </tr>\n    <tr>\n      <th>4</th>\n      <td>ILMN_1651210</td>\n      <td>203.250756</td>\n      <td>188.663967</td>\n      <td>0.077316</td>\n      <td>0.107442</td>\n    </tr>\n    <tr>\n      <th>...</th>\n      <td>...</td>\n      <td>...</td>\n      <td>...</td>\n      <td>...</td>\n      <td>...</td>\n    </tr>\n    <tr>\n      <th>48798</th>\n      <td>ILMN_2415911</td>\n      <td>1061.050144</td>\n      <td>792.658411</td>\n      <td>0.338597</td>\n      <td>0.420722</td>\n    </tr>\n    <tr>\n      <th>48799</th>\n      <td>ILMN_2415926</td>\n      <td>2400.563667</td>\n      <td>1354.958044</td>\n      <td>0.771689</td>\n      <td>0.825125</td>\n    </tr>\n    <tr>\n      <th>48800</th>\n      <td>ILMN_2415949</td>\n      <td>2126.544889</td>\n      <td>1684.671389</td>\n      <td>0.262291</td>\n      <td>0.336044</td>\n    </tr>\n    <tr>\n      <th>48801</th>\n      <td>ILMN_2415979</td>\n      <td>3160.949222</td>\n      <td>5400.365889</td>\n      <td>-0.414679</td>\n      <td>-0.772699</td>\n    </tr>\n    <tr>\n      <th>48802</th>\n      <td>ILMN_2416019</td>\n      <td>425.073478</td>\n      <td>1097.125689</td>\n      <td>-0.612557</td>\n      <td>-1.367945</td>\n    </tr>\n  </tbody>\n</table>\n<p>48803 rows × 5 columns</p>\n</div>"
     },
     "execution_count": 17,
     "metadata": {},
     "output_type": "execute_result"
    }
   ],
   "source": [
    "# Add a Column with the Fold Change Computation ( (Condition - Control) / (Control) )\n",
    "condition = phenotype_comparison_df['Gene_Exp_Avg_Tumor']\n",
    "control =  phenotype_comparison_df['Gene_Exp_Avg_Normal']\n",
    "\n",
    "# Note, the provided Fold Change Computation cannot describe symmetry well\n",
    "phenotype_comparison_df['Fold_Change'] = (condition - control) / control\n",
    "phenotype_comparison_df['log_Fold_Change'] = np.log2( condition  / control )\n",
    "\n",
    "# Print the DF to Validate Operations\n",
    "phenotype_comparison_df"
   ],
   "metadata": {
    "collapsed": false,
    "ExecuteTime": {
     "end_time": "2024-02-29T19:22:44.664422100Z",
     "start_time": "2024-02-29T19:22:44.651845900Z"
    }
   },
   "id": "89f25beb6b0ec14b",
   "execution_count": 17
  },
  {
   "cell_type": "markdown",
   "source": [
    "f. Use the data from part e and “Gene_Information.csv” to identify all genes fold change magnitude (absolute value) was greater than 5"
   ],
   "metadata": {
    "collapsed": false
   },
   "id": "a39d1f492aba18f5"
  },
  {
   "cell_type": "code",
   "outputs": [
    {
     "data": {
      "text/plain": "           Probe_ID  Gene_Exp_Avg_Tumor  Gene_Exp_Avg_Normal  Fold_Change  \\\n310    ILMN_1652431          544.877033         31266.639556    -0.982573   \n6537   ILMN_1681462         9065.138122           203.389556    43.570323   \n12453  ILMN_1713462          329.270233         19227.673778    -0.982875   \n20560  ILMN_1763749          785.278878         25938.407000    -0.969725   \n26614  ILMN_1802441         9412.236744           212.872711    43.215328   \n44270  ILMN_2192072         9960.201889           258.986000    37.458457   \n47796  ILMN_2382679         8341.601200           219.782644    36.953867   \n\n       log_Fold_Change  \n310          -5.842550  \n6537          5.478012  \n12453        -5.867768  \n20560        -5.045741  \n26614         5.466475  \n44270         5.265229  \n47796         5.246175  ",
      "text/html": "<div>\n<style scoped>\n    .dataframe tbody tr th:only-of-type {\n        vertical-align: middle;\n    }\n\n    .dataframe tbody tr th {\n        vertical-align: top;\n    }\n\n    .dataframe thead th {\n        text-align: right;\n    }\n</style>\n<table border=\"1\" class=\"dataframe\">\n  <thead>\n    <tr style=\"text-align: right;\">\n      <th></th>\n      <th>Probe_ID</th>\n      <th>Gene_Exp_Avg_Tumor</th>\n      <th>Gene_Exp_Avg_Normal</th>\n      <th>Fold_Change</th>\n      <th>log_Fold_Change</th>\n    </tr>\n  </thead>\n  <tbody>\n    <tr>\n      <th>310</th>\n      <td>ILMN_1652431</td>\n      <td>544.877033</td>\n      <td>31266.639556</td>\n      <td>-0.982573</td>\n      <td>-5.842550</td>\n    </tr>\n    <tr>\n      <th>6537</th>\n      <td>ILMN_1681462</td>\n      <td>9065.138122</td>\n      <td>203.389556</td>\n      <td>43.570323</td>\n      <td>5.478012</td>\n    </tr>\n    <tr>\n      <th>12453</th>\n      <td>ILMN_1713462</td>\n      <td>329.270233</td>\n      <td>19227.673778</td>\n      <td>-0.982875</td>\n      <td>-5.867768</td>\n    </tr>\n    <tr>\n      <th>20560</th>\n      <td>ILMN_1763749</td>\n      <td>785.278878</td>\n      <td>25938.407000</td>\n      <td>-0.969725</td>\n      <td>-5.045741</td>\n    </tr>\n    <tr>\n      <th>26614</th>\n      <td>ILMN_1802441</td>\n      <td>9412.236744</td>\n      <td>212.872711</td>\n      <td>43.215328</td>\n      <td>5.466475</td>\n    </tr>\n    <tr>\n      <th>44270</th>\n      <td>ILMN_2192072</td>\n      <td>9960.201889</td>\n      <td>258.986000</td>\n      <td>37.458457</td>\n      <td>5.265229</td>\n    </tr>\n    <tr>\n      <th>47796</th>\n      <td>ILMN_2382679</td>\n      <td>8341.601200</td>\n      <td>219.782644</td>\n      <td>36.953867</td>\n      <td>5.246175</td>\n    </tr>\n  </tbody>\n</table>\n</div>"
     },
     "execution_count": 18,
     "metadata": {},
     "output_type": "execute_result"
    }
   ],
   "source": [
    "# Filter the Phenotype Comparison DF for an absolute fold change greater than 5\n",
    "significant_genes_df = phenotype_comparison_df[abs(phenotype_comparison_df['log_Fold_Change']) > 5]\n",
    "\n",
    "# Print the DF to Validate Operations\n",
    "significant_genes_df"
   ],
   "metadata": {
    "collapsed": false,
    "ExecuteTime": {
     "end_time": "2024-02-29T19:22:44.713017200Z",
     "start_time": "2024-02-29T19:22:44.661886200Z"
    }
   },
   "id": "792dbde41b30b5a",
   "execution_count": 18
  },
  {
   "cell_type": "code",
   "outputs": [
    {
     "data": {
      "text/plain": "       Probe_ID  Symbol  Entrez_Gene_ID Chromosome  Cytoband  \\\n0  ILMN_1652431     CA1           759.0          8   8q21.2b   \n1  ILMN_1681462   REG1B          5968.0          2     2p12e   \n2  ILMN_1713462    AQP8           343.0         16  16p12.1b   \n3  ILMN_1763749  GUCA2A          2980.0          1   1p34.2b   \n4  ILMN_1802441   REG1A          5967.0          2     2p12e   \n5  ILMN_2192072    MMP7          4316.0         11  11q22.2a   \n6  ILMN_2382679   REG3A          5068.0          2     2p12e   \n\n   Gene_Exp_Avg_Tumor  Gene_Exp_Avg_Normal  Fold_Change  log_Fold_Change  \n0          544.877033         31266.639556    -0.982573        -5.842550  \n1         9065.138122           203.389556    43.570323         5.478012  \n2          329.270233         19227.673778    -0.982875        -5.867768  \n3          785.278878         25938.407000    -0.969725        -5.045741  \n4         9412.236744           212.872711    43.215328         5.466475  \n5         9960.201889           258.986000    37.458457         5.265229  \n6         8341.601200           219.782644    36.953867         5.246175  ",
      "text/html": "<div>\n<style scoped>\n    .dataframe tbody tr th:only-of-type {\n        vertical-align: middle;\n    }\n\n    .dataframe tbody tr th {\n        vertical-align: top;\n    }\n\n    .dataframe thead th {\n        text-align: right;\n    }\n</style>\n<table border=\"1\" class=\"dataframe\">\n  <thead>\n    <tr style=\"text-align: right;\">\n      <th></th>\n      <th>Probe_ID</th>\n      <th>Symbol</th>\n      <th>Entrez_Gene_ID</th>\n      <th>Chromosome</th>\n      <th>Cytoband</th>\n      <th>Gene_Exp_Avg_Tumor</th>\n      <th>Gene_Exp_Avg_Normal</th>\n      <th>Fold_Change</th>\n      <th>log_Fold_Change</th>\n    </tr>\n  </thead>\n  <tbody>\n    <tr>\n      <th>0</th>\n      <td>ILMN_1652431</td>\n      <td>CA1</td>\n      <td>759.0</td>\n      <td>8</td>\n      <td>8q21.2b</td>\n      <td>544.877033</td>\n      <td>31266.639556</td>\n      <td>-0.982573</td>\n      <td>-5.842550</td>\n    </tr>\n    <tr>\n      <th>1</th>\n      <td>ILMN_1681462</td>\n      <td>REG1B</td>\n      <td>5968.0</td>\n      <td>2</td>\n      <td>2p12e</td>\n      <td>9065.138122</td>\n      <td>203.389556</td>\n      <td>43.570323</td>\n      <td>5.478012</td>\n    </tr>\n    <tr>\n      <th>2</th>\n      <td>ILMN_1713462</td>\n      <td>AQP8</td>\n      <td>343.0</td>\n      <td>16</td>\n      <td>16p12.1b</td>\n      <td>329.270233</td>\n      <td>19227.673778</td>\n      <td>-0.982875</td>\n      <td>-5.867768</td>\n    </tr>\n    <tr>\n      <th>3</th>\n      <td>ILMN_1763749</td>\n      <td>GUCA2A</td>\n      <td>2980.0</td>\n      <td>1</td>\n      <td>1p34.2b</td>\n      <td>785.278878</td>\n      <td>25938.407000</td>\n      <td>-0.969725</td>\n      <td>-5.045741</td>\n    </tr>\n    <tr>\n      <th>4</th>\n      <td>ILMN_1802441</td>\n      <td>REG1A</td>\n      <td>5967.0</td>\n      <td>2</td>\n      <td>2p12e</td>\n      <td>9412.236744</td>\n      <td>212.872711</td>\n      <td>43.215328</td>\n      <td>5.466475</td>\n    </tr>\n    <tr>\n      <th>5</th>\n      <td>ILMN_2192072</td>\n      <td>MMP7</td>\n      <td>4316.0</td>\n      <td>11</td>\n      <td>11q22.2a</td>\n      <td>9960.201889</td>\n      <td>258.986000</td>\n      <td>37.458457</td>\n      <td>5.265229</td>\n    </tr>\n    <tr>\n      <th>6</th>\n      <td>ILMN_2382679</td>\n      <td>REG3A</td>\n      <td>5068.0</td>\n      <td>2</td>\n      <td>2p12e</td>\n      <td>8341.601200</td>\n      <td>219.782644</td>\n      <td>36.953867</td>\n      <td>5.246175</td>\n    </tr>\n  </tbody>\n</table>\n</div>"
     },
     "execution_count": 19,
     "metadata": {},
     "output_type": "execute_result"
    }
   ],
   "source": [
    "# Merge the Gene Information from the Gene_Information df onto the Significant Genes DF\n",
    "annotated_significant_genes_df = pd.merge(\n",
    "    # The DFs to Merge\n",
    "    dfs[\"Gene_Information\"], # Contains the Gene annotations\n",
    "    significant_genes_df, # Contains the Up-Regulated and Down-Regulated Genes with | Log Fold Change | > 5\n",
    "    # Right Join to grab all available information from the left df but keep all the genes of the right df\n",
    "    how='right',\n",
    "    # Merge on the Probe ID column\n",
    "    on='Probe_ID',\n",
    ")\n",
    "\n",
    "# Print the DF to validate operations\n",
    "annotated_significant_genes_df"
   ],
   "metadata": {
    "collapsed": false,
    "ExecuteTime": {
     "end_time": "2024-02-29T19:22:44.744986700Z",
     "start_time": "2024-02-29T19:22:44.681251600Z"
    }
   },
   "id": "8c09373bca889def",
   "execution_count": 19
  },
  {
   "cell_type": "markdown",
   "source": [
    "g. Add a column to the result of part f to include if the gene was higher expressed in “Normal” or “Tumor” samples"
   ],
   "metadata": {
    "collapsed": false
   },
   "id": "54dbd59f7edb075e"
  },
  {
   "cell_type": "code",
   "outputs": [
    {
     "name": "stdout",
     "output_type": "stream",
     "text": [
      "       Probe_ID  Symbol  Entrez_Gene_ID Chromosome  Cytoband  \\\n",
      "0  ILMN_1652431     CA1           759.0          8   8q21.2b   \n",
      "1  ILMN_1681462   REG1B          5968.0          2     2p12e   \n",
      "2  ILMN_1713462    AQP8           343.0         16  16p12.1b   \n",
      "3  ILMN_1763749  GUCA2A          2980.0          1   1p34.2b   \n",
      "4  ILMN_1802441   REG1A          5967.0          2     2p12e   \n",
      "\n",
      "   Gene_Exp_Avg_Tumor  Gene_Exp_Avg_Normal  Fold_Change  log_Fold_Change  \n",
      "0          544.877033         31266.639556    -0.982573        -5.842550  \n",
      "1         9065.138122           203.389556    43.570323         5.478012  \n",
      "2          329.270233         19227.673778    -0.982875        -5.867768  \n",
      "3          785.278878         25938.407000    -0.969725        -5.045741  \n",
      "4         9412.236744           212.872711    43.215328         5.466475  \n"
     ]
    }
   ],
   "source": [
    "print(annotated_significant_genes_df.head())"
   ],
   "metadata": {
    "collapsed": false,
    "ExecuteTime": {
     "end_time": "2024-02-29T19:22:44.745985100Z",
     "start_time": "2024-02-29T19:22:44.697661900Z"
    }
   },
   "id": "a4f857ea7829c503",
   "execution_count": 20
  },
  {
   "cell_type": "code",
   "outputs": [],
   "source": [
    "# Dynamic Way of Handling Multiple Phenotypes, Unused\n",
    "def highest_expression_per_phenotype(\n",
    "        phenotype_labels: list, \n",
    "        phenotype_expressions_df: pd.DataFrame, \n",
    "        label_prefix='_',\n",
    "        gene_expression_column_prefix='Gene_Exp_Avg'\n",
    "):\n",
    "    # Column Name === f'{ gene_expression_column_prefix + label_prefix + phenotype_label }'\n",
    "    # Assemble the common string in all the phenotype expression columns\n",
    "    common_column_str = gene_expression_column_prefix + label_prefix\n",
    "    \n",
    "    # Identify the Column Names for the Gene Expressions for the Corresponding Phenotypes\n",
    "    expression_columns = []\n",
    "    for label in phenotype_labels:\n",
    "        expression_columns.append(f'{common_column_str+label}')\n",
    "    \n",
    "    # Find the maximum expression across the specified phenotypes for each gene\n",
    "    max_expression_col = phenotype_comparison_df[expression_columns].idxmax(axis=\"columns\")\n",
    "    \n",
    "    # Get the Maximum Phenotype name from the name of the column with the maximum expression\n",
    "    # Erase the common_column_str by replacing it with an empty string\n",
    "    max_phenotype = max_expression_col.str.replace(f'{common_column_str}', '')\n",
    "\n",
    "    # Build the Column containing the string name of the Phenotype with the maximum gene expression\n",
    "    phenotype_expressions_df['Highest_Exp_Phenotype'] = max_phenotype\n",
    "    \n",
    "    # Return the Updated Dataframe\n",
    "    return phenotype_expressions_df"
   ],
   "metadata": {
    "collapsed": false,
    "ExecuteTime": {
     "end_time": "2024-02-29T19:22:44.746982300Z",
     "start_time": "2024-02-29T19:22:44.701602Z"
    }
   },
   "id": "aa2e4b9c4826171a",
   "execution_count": 21
  },
  {
   "cell_type": "code",
   "outputs": [],
   "source": [
    "# Simplified Function with np.where(condition, [returnThisIfTrue,returnThisIfFalse])\n",
    "def higher_expression_phenotype(\n",
    "        condition_phenotype: str, \n",
    "        normal_phenotype: str, \n",
    "        phenotype_expressions_df: pd.DataFrame,\n",
    "        label_prefix='_',\n",
    "        gene_expression_column_prefix='Gene_Exp_Avg'\n",
    ") -> np.ndarray: \n",
    "    # Create a List of the Phenotypes to Iterate Through\n",
    "    pts_list = [condition_phenotype, normal_phenotype]\n",
    "    \n",
    "    # Build a Dict of the Phenotype Information using the List\n",
    "    pts = {}\n",
    "    for pt in pts_list:\n",
    "        pts[pt] = {\n",
    "            # Name of the Phenotype\n",
    "            \"label\": pt,\n",
    "            # Corresponding DF Column === f'{ gene_expression_column_prefix + label_prefix + phenotype_label }'\n",
    "            \"col\": phenotype_expressions_df[f'{gene_expression_column_prefix + label_prefix +pt}']\n",
    "        }\n",
    "    \n",
    "    # Boolean Test for the np.Where Function\n",
    "    test_condition = pts[condition_phenotype][\"col\"] > pts[normal_phenotype][\"col\"]\n",
    "    # Logical Returns based on the Boolean Test\n",
    "    returns = {True: pts[condition_phenotype][\"label\"], False: pts[normal_phenotype][\"label\"]}\n",
    "    \n",
    "    # Use np.where to vectorize the entire columns for column math\n",
    "    return np.where(test_condition,returns[True], returns[False])"
   ],
   "metadata": {
    "collapsed": false,
    "ExecuteTime": {
     "end_time": "2024-02-29T19:22:44.817579200Z",
     "start_time": "2024-02-29T19:22:44.711018Z"
    }
   },
   "id": "26c06a1219960871",
   "execution_count": 22
  },
  {
   "cell_type": "code",
   "outputs": [
    {
     "data": {
      "text/plain": "       Probe_ID  Symbol  Entrez_Gene_ID Chromosome  Cytoband  \\\n0  ILMN_1652431     CA1           759.0          8   8q21.2b   \n1  ILMN_1681462   REG1B          5968.0          2     2p12e   \n2  ILMN_1713462    AQP8           343.0         16  16p12.1b   \n3  ILMN_1763749  GUCA2A          2980.0          1   1p34.2b   \n4  ILMN_1802441   REG1A          5967.0          2     2p12e   \n5  ILMN_2192072    MMP7          4316.0         11  11q22.2a   \n6  ILMN_2382679   REG3A          5068.0          2     2p12e   \n\n   Gene_Exp_Avg_Tumor  Gene_Exp_Avg_Normal  Fold_Change  log_Fold_Change  \\\n0          544.877033         31266.639556    -0.982573        -5.842550   \n1         9065.138122           203.389556    43.570323         5.478012   \n2          329.270233         19227.673778    -0.982875        -5.867768   \n3          785.278878         25938.407000    -0.969725        -5.045741   \n4         9412.236744           212.872711    43.215328         5.466475   \n5         9960.201889           258.986000    37.458457         5.265229   \n6         8341.601200           219.782644    36.953867         5.246175   \n\n  Higher Exp Phenotype  \n0               Normal  \n1                Tumor  \n2               Normal  \n3               Normal  \n4                Tumor  \n5                Tumor  \n6                Tumor  ",
      "text/html": "<div>\n<style scoped>\n    .dataframe tbody tr th:only-of-type {\n        vertical-align: middle;\n    }\n\n    .dataframe tbody tr th {\n        vertical-align: top;\n    }\n\n    .dataframe thead th {\n        text-align: right;\n    }\n</style>\n<table border=\"1\" class=\"dataframe\">\n  <thead>\n    <tr style=\"text-align: right;\">\n      <th></th>\n      <th>Probe_ID</th>\n      <th>Symbol</th>\n      <th>Entrez_Gene_ID</th>\n      <th>Chromosome</th>\n      <th>Cytoband</th>\n      <th>Gene_Exp_Avg_Tumor</th>\n      <th>Gene_Exp_Avg_Normal</th>\n      <th>Fold_Change</th>\n      <th>log_Fold_Change</th>\n      <th>Higher Exp Phenotype</th>\n    </tr>\n  </thead>\n  <tbody>\n    <tr>\n      <th>0</th>\n      <td>ILMN_1652431</td>\n      <td>CA1</td>\n      <td>759.0</td>\n      <td>8</td>\n      <td>8q21.2b</td>\n      <td>544.877033</td>\n      <td>31266.639556</td>\n      <td>-0.982573</td>\n      <td>-5.842550</td>\n      <td>Normal</td>\n    </tr>\n    <tr>\n      <th>1</th>\n      <td>ILMN_1681462</td>\n      <td>REG1B</td>\n      <td>5968.0</td>\n      <td>2</td>\n      <td>2p12e</td>\n      <td>9065.138122</td>\n      <td>203.389556</td>\n      <td>43.570323</td>\n      <td>5.478012</td>\n      <td>Tumor</td>\n    </tr>\n    <tr>\n      <th>2</th>\n      <td>ILMN_1713462</td>\n      <td>AQP8</td>\n      <td>343.0</td>\n      <td>16</td>\n      <td>16p12.1b</td>\n      <td>329.270233</td>\n      <td>19227.673778</td>\n      <td>-0.982875</td>\n      <td>-5.867768</td>\n      <td>Normal</td>\n    </tr>\n    <tr>\n      <th>3</th>\n      <td>ILMN_1763749</td>\n      <td>GUCA2A</td>\n      <td>2980.0</td>\n      <td>1</td>\n      <td>1p34.2b</td>\n      <td>785.278878</td>\n      <td>25938.407000</td>\n      <td>-0.969725</td>\n      <td>-5.045741</td>\n      <td>Normal</td>\n    </tr>\n    <tr>\n      <th>4</th>\n      <td>ILMN_1802441</td>\n      <td>REG1A</td>\n      <td>5967.0</td>\n      <td>2</td>\n      <td>2p12e</td>\n      <td>9412.236744</td>\n      <td>212.872711</td>\n      <td>43.215328</td>\n      <td>5.466475</td>\n      <td>Tumor</td>\n    </tr>\n    <tr>\n      <th>5</th>\n      <td>ILMN_2192072</td>\n      <td>MMP7</td>\n      <td>4316.0</td>\n      <td>11</td>\n      <td>11q22.2a</td>\n      <td>9960.201889</td>\n      <td>258.986000</td>\n      <td>37.458457</td>\n      <td>5.265229</td>\n      <td>Tumor</td>\n    </tr>\n    <tr>\n      <th>6</th>\n      <td>ILMN_2382679</td>\n      <td>REG3A</td>\n      <td>5068.0</td>\n      <td>2</td>\n      <td>2p12e</td>\n      <td>8341.601200</td>\n      <td>219.782644</td>\n      <td>36.953867</td>\n      <td>5.246175</td>\n      <td>Tumor</td>\n    </tr>\n  </tbody>\n</table>\n</div>"
     },
     "execution_count": 23,
     "metadata": {},
     "output_type": "execute_result"
    }
   ],
   "source": [
    "# Use np.where(condition, returnThisIfTrue, returnThisIfFalse]) for simplicity\n",
    "annotated_significant_genes_df['Higher Exp Phenotype'] = higher_expression_phenotype('Tumor','Normal',annotated_significant_genes_df,'_','Gene_Exp_Avg')\n",
    "# Use highest_expression_per_phenotype (...) to handle phenotypes dynamically with '.idxmax' method\n",
    "# Use higher_expression_phenotype (...) to handle two phenotypes only with np.where\n",
    "\n",
    "# Print the DataFrame to validate operations\n",
    "#print(annotated_significant_genes_df.head(annotated_significant_genes_df.__sizeof__()))\n",
    "annotated_significant_genes_df"
   ],
   "metadata": {
    "collapsed": false,
    "ExecuteTime": {
     "end_time": "2024-02-29T19:22:44.838617800Z",
     "start_time": "2024-02-29T19:22:44.718939200Z"
    }
   },
   "id": "55d63693eecbc360",
   "execution_count": 23
  },
  {
   "cell_type": "markdown",
   "source": [
    "## 2. Exploratory Data Analysis (EDA)\n",
    "Exploratory Data Analysis (EDA) is a critical initial step in the data analysis process. It involves systematically examining and visualizing data sets to gain insights, detect patterns, and identify anomalies. EDA helps data analysts and scientists understand the structure and characteristics of their data, making it easier to formulate hypotheses and guide subsequent analysis."
   ],
   "metadata": {
    "collapsed": false
   },
   "id": "34717fdbe9c0a0bb"
  },
  {
   "cell_type": "markdown",
   "source": [
    "a. Perform exploratory data analysis on the genes from part 1g"
   ],
   "metadata": {
    "collapsed": false
   },
   "id": "2537ba92faf7c799"
  },
  {
   "cell_type": "code",
   "outputs": [],
   "source": [],
   "metadata": {
    "collapsed": false,
    "ExecuteTime": {
     "end_time": "2024-02-29T19:22:44.857670600Z",
     "start_time": "2024-02-29T19:22:44.731809Z"
    }
   },
   "id": "52aecd69f5467a99",
   "execution_count": 23
  },
  {
   "cell_type": "code",
   "outputs": [
    {
     "name": "stdout",
     "output_type": "stream",
     "text": [
      "          Probe    Gene Chromosome  Cytoband      Tumor     Normal\n",
      "0  ILMN_1652431     CA1          8   8q21.2b   9.089787  14.932337\n",
      "1  ILMN_1681462   REG1B          2     2p12e  13.146113   7.668102\n",
      "2  ILMN_1713462    AQP8         16  16p12.1b   8.363128  14.230897\n",
      "3  ILMN_1763749  GUCA2A          1   1p34.2b   9.617061  14.662802\n",
      "4  ILMN_1802441   REG1A          2     2p12e  13.200322   7.733847\n"
     ]
    }
   ],
   "source": [
    "# Create a dataframe for the plot\n",
    "# Columns for the Plot\n",
    "plot_columns = ['Probe_ID','Symbol','Chromosome', 'Cytoband', 'Gene_Exp_Avg_Tumor', 'Gene_Exp_Avg_Normal']\n",
    "\n",
    "\n",
    "# Build the Initial Plot DF by Copying from the Annotated Significant Genes DF\n",
    "plot_df = annotated_significant_genes_df[plot_columns].copy()\n",
    "\n",
    "# Rename Columns for Human Interpretation\n",
    "plot_df.rename(columns={'Probe_ID':'Probe', 'Symbol': 'Gene'},inplace=True)\n",
    "\n",
    "# Columns to Transform by taking the Log2 Value of to Normalize\n",
    "data_to_log_column_names = ['Gene_Exp_Avg_Tumor','Gene_Exp_Avg_Normal']\n",
    "# Initialize an empty array to contain transformed names\n",
    "log_columns = [] \n",
    "\n",
    "for data_to_log_column in data_to_log_column_names:\n",
    "    # Generate the Log Column Data\n",
    "    log_column_data = np.log2(plot_df[data_to_log_column])\n",
    "    # Drop the Old Column\n",
    "    plot_df.drop(columns=[data_to_log_column],inplace=True)\n",
    "    \n",
    "    # Prepare the Column Name for the Plot by erasing the Gene_Exp_Avg\n",
    "    log_column = data_to_log_column.replace(\"Gene_Exp_Avg_\",\"\")\n",
    "    # Append the Name to the Array of Column Names\n",
    "    log_columns.append(log_column)\n",
    "    # Write the New Column\n",
    "    plot_df[log_column] = log_column_data\n",
    "\n",
    "\n",
    "# Validate the DF by Printing it\n",
    "print(plot_df.head())"
   ],
   "metadata": {
    "collapsed": false,
    "ExecuteTime": {
     "end_time": "2024-02-29T19:22:44.859668900Z",
     "start_time": "2024-02-29T19:22:44.741848900Z"
    }
   },
   "id": "60eb548c82210165",
   "execution_count": 24
  },
  {
   "cell_type": "code",
   "outputs": [
    {
     "data": {
      "text/plain": "      Gene         Probe Chromosome  Cytoband   Class  Log2 ( GeneExpression )\n3   GUCA2A  ILMN_1763749          1   1p34.2b  Normal                14.662802\n10  GUCA2A  ILMN_1763749          1   1p34.2b   Tumor                 9.617061\n5     MMP7  ILMN_2192072         11  11q22.2a  Normal                 8.016730\n12    MMP7  ILMN_2192072         11  11q22.2a   Tumor                13.281959\n2     AQP8  ILMN_1713462         16  16p12.1b  Normal                14.230897\n9     AQP8  ILMN_1713462         16  16p12.1b   Tumor                 8.363128\n4    REG1A  ILMN_1802441          2     2p12e  Normal                 7.733847\n11   REG1A  ILMN_1802441          2     2p12e   Tumor                13.200322\n1    REG1B  ILMN_1681462          2     2p12e  Normal                 7.668102\n8    REG1B  ILMN_1681462          2     2p12e   Tumor                13.146113\n6    REG3A  ILMN_2382679          2     2p12e  Normal                 7.779934\n13   REG3A  ILMN_2382679          2     2p12e   Tumor                13.026109\n0      CA1  ILMN_1652431          8   8q21.2b  Normal                14.932337\n7      CA1  ILMN_1652431          8   8q21.2b   Tumor                 9.089787",
      "text/html": "<div>\n<style scoped>\n    .dataframe tbody tr th:only-of-type {\n        vertical-align: middle;\n    }\n\n    .dataframe tbody tr th {\n        vertical-align: top;\n    }\n\n    .dataframe thead th {\n        text-align: right;\n    }\n</style>\n<table border=\"1\" class=\"dataframe\">\n  <thead>\n    <tr style=\"text-align: right;\">\n      <th></th>\n      <th>Gene</th>\n      <th>Probe</th>\n      <th>Chromosome</th>\n      <th>Cytoband</th>\n      <th>Class</th>\n      <th>Log2 ( GeneExpression )</th>\n    </tr>\n  </thead>\n  <tbody>\n    <tr>\n      <th>3</th>\n      <td>GUCA2A</td>\n      <td>ILMN_1763749</td>\n      <td>1</td>\n      <td>1p34.2b</td>\n      <td>Normal</td>\n      <td>14.662802</td>\n    </tr>\n    <tr>\n      <th>10</th>\n      <td>GUCA2A</td>\n      <td>ILMN_1763749</td>\n      <td>1</td>\n      <td>1p34.2b</td>\n      <td>Tumor</td>\n      <td>9.617061</td>\n    </tr>\n    <tr>\n      <th>5</th>\n      <td>MMP7</td>\n      <td>ILMN_2192072</td>\n      <td>11</td>\n      <td>11q22.2a</td>\n      <td>Normal</td>\n      <td>8.016730</td>\n    </tr>\n    <tr>\n      <th>12</th>\n      <td>MMP7</td>\n      <td>ILMN_2192072</td>\n      <td>11</td>\n      <td>11q22.2a</td>\n      <td>Tumor</td>\n      <td>13.281959</td>\n    </tr>\n    <tr>\n      <th>2</th>\n      <td>AQP8</td>\n      <td>ILMN_1713462</td>\n      <td>16</td>\n      <td>16p12.1b</td>\n      <td>Normal</td>\n      <td>14.230897</td>\n    </tr>\n    <tr>\n      <th>9</th>\n      <td>AQP8</td>\n      <td>ILMN_1713462</td>\n      <td>16</td>\n      <td>16p12.1b</td>\n      <td>Tumor</td>\n      <td>8.363128</td>\n    </tr>\n    <tr>\n      <th>4</th>\n      <td>REG1A</td>\n      <td>ILMN_1802441</td>\n      <td>2</td>\n      <td>2p12e</td>\n      <td>Normal</td>\n      <td>7.733847</td>\n    </tr>\n    <tr>\n      <th>11</th>\n      <td>REG1A</td>\n      <td>ILMN_1802441</td>\n      <td>2</td>\n      <td>2p12e</td>\n      <td>Tumor</td>\n      <td>13.200322</td>\n    </tr>\n    <tr>\n      <th>1</th>\n      <td>REG1B</td>\n      <td>ILMN_1681462</td>\n      <td>2</td>\n      <td>2p12e</td>\n      <td>Normal</td>\n      <td>7.668102</td>\n    </tr>\n    <tr>\n      <th>8</th>\n      <td>REG1B</td>\n      <td>ILMN_1681462</td>\n      <td>2</td>\n      <td>2p12e</td>\n      <td>Tumor</td>\n      <td>13.146113</td>\n    </tr>\n    <tr>\n      <th>6</th>\n      <td>REG3A</td>\n      <td>ILMN_2382679</td>\n      <td>2</td>\n      <td>2p12e</td>\n      <td>Normal</td>\n      <td>7.779934</td>\n    </tr>\n    <tr>\n      <th>13</th>\n      <td>REG3A</td>\n      <td>ILMN_2382679</td>\n      <td>2</td>\n      <td>2p12e</td>\n      <td>Tumor</td>\n      <td>13.026109</td>\n    </tr>\n    <tr>\n      <th>0</th>\n      <td>CA1</td>\n      <td>ILMN_1652431</td>\n      <td>8</td>\n      <td>8q21.2b</td>\n      <td>Normal</td>\n      <td>14.932337</td>\n    </tr>\n    <tr>\n      <th>7</th>\n      <td>CA1</td>\n      <td>ILMN_1652431</td>\n      <td>8</td>\n      <td>8q21.2b</td>\n      <td>Tumor</td>\n      <td>9.089787</td>\n    </tr>\n  </tbody>\n</table>\n</div>"
     },
     "execution_count": 25,
     "metadata": {},
     "output_type": "execute_result"
    }
   ],
   "source": [
    "# Reshape the DataFrame to long format via melt to have one Value per row\n",
    "plot_df = pd.melt(\n",
    "    # DF to Melt\n",
    "    plot_df, \n",
    "    # Names of Variables to Keep As-Is\n",
    "    id_vars=[\"Gene\",\"Probe\",\"Chromosome\",\"Cytoband\"],\n",
    "    # Variables to Melt from Wide to Long\n",
    "    value_vars=[\"Normal\",\"Tumor\"],\n",
    "    # Difference between the Value Vars\n",
    "    var_name=\"Class\",\n",
    "    # New Name of the Value Vars\n",
    "    value_name=\"Log2 ( GeneExpression )\"\n",
    ")\n",
    "\n",
    "# Sort by 'Chromosome', 'Cytoband', and 'Gene' AKA in the order of heirarchy\n",
    "plot_df.sort_values(by=['Chromosome','Cytoband', 'Gene'], inplace=True)\n",
    "\n",
    "# Validate the Shape of the New Plot\n",
    "plot_df"
   ],
   "metadata": {
    "collapsed": false,
    "ExecuteTime": {
     "end_time": "2024-02-29T19:22:44.925553500Z",
     "start_time": "2024-02-29T19:22:44.746982300Z"
    }
   },
   "id": "3703a73c094fcf0c",
   "execution_count": 25
  },
  {
   "cell_type": "code",
   "outputs": [
    {
     "data": {
      "text/plain": "<Figure size 2000x600 with 5 Axes>",
      "image/png": "[encoded data removed]"
     },
     "metadata": {},
     "output_type": "display_data"
    }
   ],
   "source": [
    "# Goal:\n",
    "# Create a Large Plot with several sub plots to group all the genes under one cytoband\n",
    "\n",
    "# First get the number of distinct cytobands to calculate number of necessary subplots\n",
    "distinct_cytobands = plot_df['Cytoband'].unique()\n",
    "quantity_subplots = len(distinct_cytobands)\n",
    "\n",
    "# Begin Building the Figure and Map the Subplots\n",
    "fig, axes = plt.subplots(\n",
    "    # Number of Rows & Columns\n",
    "    nrows = 1, \n",
    "    ncols= quantity_subplots, \n",
    "    # Scale the Size of the Figure according to the Subplots\n",
    "    figsize=(4 * quantity_subplots, 6), \n",
    "    # Make all the Subplots share the same Y axis\n",
    "    sharey=True\n",
    ")\n",
    "\n",
    "# Per Unique Cytoband, Generate a Subplot\n",
    "for i, cytoband in enumerate(distinct_cytobands):\n",
    "\n",
    "    # Filter data for the current cytoband\n",
    "    distinct_cytoband_df = plot_df[plot_df['Cytoband'] == cytoband]\n",
    "\n",
    "\n",
    "    # Plot the individual cytoband subplot\n",
    "    \n",
    "    # Specify which of the Subplots this Subplot specifically is\n",
    "    cytoband_plot = axes[i]\n",
    "\n",
    "    \n",
    "    # Generate the Actual Bar plot for the Subplot\n",
    "    sns.barplot(\n",
    "        # Select the Data for the Subplot\n",
    "        data = distinct_cytoband_df, \n",
    "        # Categorical Label for the Subplot X-Axis\n",
    "        x = \"Gene\", \n",
    "        # Categorical Label for the Shared Y-Axis\n",
    "        y = \"Log2 ( GeneExpression )\",\n",
    "        # Change Color based on the Tumor/Normal Class\n",
    "        hue = \"Class\", \n",
    "        # Define the Specific Subplot to Generate this Bar plot On\n",
    "        ax = cytoband_plot, \n",
    "        # Seaborn Color Palettes: https://www.practicalpythonfordatascience.com/ap_seaborn_palette\n",
    "        palette = 'Dark2'\n",
    "    )\n",
    "\n",
    "    # Ensure gridlines are drawn below plot elements\n",
    "    cytoband_plot.set_axisbelow(True)\n",
    "\n",
    "    # Add horizontal gridlines\n",
    "    cytoband_plot.grid(axis='y', linestyle='-', linewidth=0.5, color='gray', alpha=0.7)\n",
    "\n",
    "    # Remove the legend from each subplot to avoid duplication\n",
    "    cytoband_plot.legend().set_visible(False)\n",
    "\n",
    "    # Set the Subplot Title and Major Parameter Ticks\n",
    "    cytoband_plot.set_title(f'Cytoband:{cytoband}')\n",
    "    cytoband_plot.tick_params(axis='x')\n",
    "    \n",
    "# End of Subplot Loop\n",
    "\n",
    "# Prepare and place the common legend at the bottom\n",
    "\n",
    "# Get the Handles (References to the Series) and their Labels for the Legend\n",
    "handles, labels = axes[0].get_legend_handles_labels()\n",
    "\n",
    "# Build a Common Legend for all the Subplots\n",
    "fig.legend(\n",
    "    # Labels of the Legend\n",
    "    labels=labels,\n",
    "    # Colors/Reference to the Series\n",
    "    handles=handles,\n",
    "    loc='upper center',\n",
    "    handlelength=2,\n",
    "    ncol=2,\n",
    "    bbox_to_anchor=(0.5, -0.08),\n",
    ")\n",
    "\n",
    "# Add a plot Title\n",
    "fig.suptitle('Log2 Gene Expression Averages by Cytoband', fontsize=16)\n",
    "# Adjust the layout to make space for the legend\n",
    "plt.subplots_adjust(bottom=0)  # Increase bottom margin to make space for the legend\n",
    "\n",
    "# Show the Plot\n",
    "plt.show()\n",
    "# Close the Plot\n",
    "plt.close()"
   ],
   "metadata": {
    "collapsed": false,
    "ExecuteTime": {
     "end_time": "2024-02-29T19:27:35.551222500Z",
     "start_time": "2024-02-29T19:27:34.957473600Z"
    }
   },
   "id": "e5688a53a3ac7c66",
   "execution_count": 37
  },
  {
   "cell_type": "code",
   "outputs": [],
   "source": [],
   "metadata": {
    "collapsed": false,
    "ExecuteTime": {
     "end_time": "2024-02-29T19:22:45.237229600Z",
     "start_time": "2024-02-29T19:22:45.157226700Z"
    }
   },
   "id": "13db4fba181f49d5",
   "execution_count": 26
  },
  {
   "cell_type": "code",
   "outputs": [],
   "source": [],
   "metadata": {
    "collapsed": false,
    "ExecuteTime": {
     "end_time": "2024-02-29T19:22:45.237229600Z",
     "start_time": "2024-02-29T19:22:45.161363400Z"
    }
   },
   "id": "7f376cccad6ba395",
   "execution_count": 26
  },
  {
   "cell_type": "markdown",
   "source": [
    "b. Create a histogram showing the distribution of the number of differentially expressed genes (DEGs) by chromosome"
   ],
   "metadata": {
    "collapsed": false
   },
   "id": "18b6fe826a8c6630"
  },
  {
   "cell_type": "code",
   "outputs": [],
   "source": [],
   "metadata": {
    "collapsed": false,
    "ExecuteTime": {
     "end_time": "2024-02-29T19:22:45.238230600Z",
     "start_time": "2024-02-29T19:22:45.163971800Z"
    }
   },
   "id": "3b8c0741ed4e26c3",
   "execution_count": 26
  },
  {
   "cell_type": "markdown",
   "source": [
    "c. Make another histogram showing the distribution of DEGs by chromosome segregated by sample type (Normal or Tumor)"
   ],
   "metadata": {
    "collapsed": false
   },
   "id": "b8f6b0322c83043c"
  },
  {
   "cell_type": "code",
   "outputs": [],
   "source": [],
   "metadata": {
    "collapsed": false,
    "ExecuteTime": {
     "end_time": "2024-02-29T19:22:45.239219400Z",
     "start_time": "2024-02-29T19:22:45.167252500Z"
    }
   },
   "id": "8f5cf014502404bb",
   "execution_count": 26
  },
  {
   "cell_type": "markdown",
   "source": [
    "d. Create a bar chart showing the percentages of the DEGs that are upregulated (higher) in Tumor samples and down regulated (lower) in Tumor samples"
   ],
   "metadata": {
    "collapsed": false
   },
   "id": "82643a41b92b5cf4"
  },
  {
   "cell_type": "code",
   "outputs": [],
   "source": [],
   "metadata": {
    "collapsed": false,
    "ExecuteTime": {
     "end_time": "2024-02-29T19:22:45.255330600Z",
     "start_time": "2024-02-29T19:22:45.171580200Z"
    }
   },
   "id": "2d2d8d894b0e3237",
   "execution_count": 26
  },
  {
   "cell_type": "markdown",
   "source": [
    "e. Use the raw data from part 1b to create a heatmap visualizing gene expression by sample"
   ],
   "metadata": {
    "collapsed": false
   },
   "id": "a246809f0bd6da29"
  },
  {
   "cell_type": "code",
   "outputs": [],
   "source": [],
   "metadata": {
    "collapsed": false,
    "ExecuteTime": {
     "end_time": "2024-02-29T19:22:45.256339800Z",
     "start_time": "2024-02-29T19:22:45.174597200Z"
    }
   },
   "id": "601547f9005cf2ee",
   "execution_count": 26
  },
  {
   "cell_type": "markdown",
   "source": [
    "f. Use the same data from the previous part to create a clustermap visualizing gene expression by sample"
   ],
   "metadata": {
    "collapsed": false
   },
   "id": "b95f2e68a2611adf"
  },
  {
   "cell_type": "code",
   "outputs": [],
   "source": [],
   "metadata": {
    "collapsed": false,
    "ExecuteTime": {
     "end_time": "2024-02-29T19:22:45.321795500Z",
     "start_time": "2024-02-29T19:22:45.176605800Z"
    }
   },
   "id": "e7e307bfdf183d0d",
   "execution_count": 26
  },
  {
   "cell_type": "markdown",
   "source": [
    "g. Write a few sentence explaining the findings of your analysis, feel free to reference any of visualizations"
   ],
   "metadata": {
    "collapsed": false
   },
   "id": "453b25dbac754a65"
  },
  {
   "cell_type": "code",
   "outputs": [],
   "source": [],
   "metadata": {
    "collapsed": false,
    "ExecuteTime": {
     "end_time": "2024-02-29T19:22:45.323317Z",
     "start_time": "2024-02-29T19:22:45.181686100Z"
    }
   },
   "id": "6848bdb303690b4",
   "execution_count": 26
  },
  {
   "cell_type": "markdown",
   "source": [
    "h. BONUS: Additional embellishments to your visualizations, using matplotlib and/or seaborn functions to make your visualizations more aesthetically pleasing will be rewarded up to 20 extra points"
   ],
   "metadata": {
    "collapsed": false
   },
   "id": "a0dafbfe4b8a7200"
  },
  {
   "cell_type": "code",
   "outputs": [],
   "source": [],
   "metadata": {
    "collapsed": false,
    "ExecuteTime": {
     "end_time": "2024-02-29T19:22:45.323382Z",
     "start_time": "2024-02-29T19:22:45.184445Z"
    }
   },
   "id": "29b672930f520ad",
   "execution_count": 26
  },
  {
   "cell_type": "markdown",
   "source": [
    "## 3. Documentation\n",
    "Write a ReadMe file meeting all the requirements described in the first assignment is a prerequisite.\n"
   ],
   "metadata": {
    "collapsed": false
   },
   "id": "fcd1ccc809dd1b9"
  },
  {
   "cell_type": "code",
   "outputs": [],
   "source": [],
   "metadata": {
    "collapsed": false,
    "ExecuteTime": {
     "end_time": "2024-02-29T19:22:45.324336600Z",
     "start_time": "2024-02-29T19:22:45.186969300Z"
    }
   },
   "id": "63b7f0a7ce446774",
   "execution_count": 26
  }
 ],
 "metadata": {
  "kernelspec": {
   "display_name": "Python 3",
   "language": "python",
   "name": "python3"
  },
  "language_info": {
   "codemirror_mode": {
    "name": "ipython",
    "version": 2
   },
   "file_extension": ".py",
   "mimetype": "text/x-python",
   "name": "python",
   "nbconvert_exporter": "python",
   "pygments_lexer": "ipython2",
   "version": "2.7.6"
  }
 },
 "nbformat": 4,
 "nbformat_minor": 5
}
